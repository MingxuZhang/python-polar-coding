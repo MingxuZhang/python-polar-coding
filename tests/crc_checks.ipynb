{
  "cells": [
    {
      "cell_type": "code",
      "execution_count": 2,
      "metadata": {
        "collapsed": true,
        "pycharm": {
          "is_executing": false
        }
      },
      "outputs": [
        {
          "traceback": [
            "\u001b[0;31m---------------------------------------------------------------------------\u001b[0m",
            "\u001b[0;31mModuleNotFoundError\u001b[0m                       Traceback (most recent call last)",
            "\u001b[0;32m\u003cipython-input-2-37411da62bfd\u003e\u001b[0m in \u001b[0;36m\u003cmodule\u003e\u001b[0;34m\u001b[0m\n\u001b[1;32m      1\u001b[0m \u001b[0;32mimport\u001b[0m \u001b[0mjson\u001b[0m\u001b[0;34m\u001b[0m\u001b[0;34m\u001b[0m\u001b[0m\n\u001b[0;32m----\u003e 2\u001b[0;31m \u001b[0;32mfrom\u001b[0m \u001b[0mpolar_codes\u001b[0m \u001b[0;32mimport\u001b[0m \u001b[0mSCPolarCode\u001b[0m\u001b[0;34m\u001b[0m\u001b[0;34m\u001b[0m\u001b[0m\n\u001b[0m",
            "\u001b[0;31mModuleNotFoundError\u001b[0m: No module named \u0027polar_codes\u0027"
          ],
          "ename": "ModuleNotFoundError",
          "evalue": "No module named \u0027polar_codes\u0027",
          "output_type": "error"
        }
      ],
      "source": "import json\nimport numpy as np\nfrom polar_codes import SCPolarCode"
    },
    {
      "cell_type": "code",
      "execution_count": 3,
      "outputs": [],
      "source": "with open(\u0027tests/crc_problem.json\u0027) as fp:\n    crc_data \u003d json.load(fp)",
      "metadata": {
        "pycharm": {
          "metadata": false,
          "name": "#%%\n",
          "is_executing": false
        }
      }
    },
    {
      "cell_type": "code",
      "execution_count": null,
      "outputs": [],
      "source": "code_data \u003d crc_data[\u0027code\u0027]\ncode_data.update({\u0027dumped_mask\u0027: code_data[\u0027polar_mask\u0027]})\ndel code_data[\u0027polar_mask\u0027]\ndel code_data[\u0027type\u0027]\ndel code_data[\u0027extra_params\u0027]\nprint(code_data)",
      "metadata": {
        "pycharm": {
          "metadata": false,
          "name": "#%%\n"
        }
      }
    },
    {
      "cell_type": "code",
      "execution_count": 4,
      "outputs": [
        {
          "name": "stdout",
          "text": [
            "10000\n"
          ],
          "output_type": "stream"
        }
      ],
      "source": "code \u003d SCPolarCode(**code_data)\nresults \u003d crc_data[\u0027results\u0027]\n\nfor result in results:\n    message \u003d results[0][\u0027message\u0027]\n    message_with_crc \u003d results[0][\u0027message_with_crc\u0027]\n    decoded \u003d results[0][\u0027decoded\u0027]\n    results_with_crc \u003d results[0][\u0027results_with_crc\u0027]\n",
      "metadata": {
        "pycharm": {
          "metadata": false,
          "name": "#%%\n",
          "is_executing": false
        }
      }
    }
  ],
  "metadata": {
    "language_info": {
      "codemirror_mode": {
        "name": "ipython",
        "version": 2
      },
      "file_extension": ".py",
      "mimetype": "text/x-python",
      "name": "python",
      "nbconvert_exporter": "python",
      "pygments_lexer": "ipython2",
      "version": "2.7.6"
    },
    "kernelspec": {
      "name": "python3",
      "language": "python",
      "display_name": "Python 3"
    }
  },
  "nbformat": 4,
  "nbformat_minor": 0
}